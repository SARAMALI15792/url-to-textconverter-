{
 "cells": [
  {
   "cell_type": "code",
   "execution_count": 1,
   "metadata": {},
   "outputs": [
    {
     "name": "stderr",
     "output_type": "stream",
     "text": [
      "USER_AGENT environment variable not set, consider setting it to identify your requests.\n"
     ]
    },
    {
     "name": "stdout",
     "output_type": "stream",
     "text": [
      "Document 1: page_content='The 7 Habits of Highly Effective People | by Mental Garden | Jan, 2025 | MediumOpen in appSign upSign inWriteSign upSign inThe 7 Habits of Highly Effective PeopleSmall changes, huge resultsMental Garden·Follow7 min read·Jan 26, 2025--ListenShareAlmost all of us know that we could improve in aspects of our lives, both personally and professionally. But here’s the problem: we don’t know where to start or how to do it.Stephen Covey’s book The 7 Habits of Highly Effective People provides a clear and practical answer to overcome just such a blockage.The idea of the book is simple: to maximize the potential of whoever reads it. Covey analyzes patterns observed in great personalities from various fields and translates them into habits that we can all adopt. By the end of reading this text, you will understand how to integrate these principles into your daily life to go one step further in your development.These are the 7 key habits.Habit 1: Being proactive, the power of choiceProactivity is the foundation of effectiveness.Being proactive means taking responsibility for our decisions and actions. It is the first habit because the rest depends on us being proactive and not reactive people, i.e., making things happen rather than waiting for them to happen.The key to mastering this habit is to understand that while external circumstances are often not in our control, our response to those circumstances always is. Proactive people are clear about this and focus on their “circle of influence” (that which they can control) rather than wearing themselves out with the “circle of worry” (unchangeable external circumstances).How to apply it?If publishers don’t publish your writing, instead of getting discouraged, take action in your circle of influence; start writing online and build your reputation.If prices go up, instead of lamenting, review your finances and look for ways to optimize your expenses or think of some extra income to improve the situation.Over time, your circle will lead you to opportunities that were impossible before.Habit 2: Start with an end in mindIf you don’t define who you are and where you want to go, someone else will do it for you.Circumstances, people you surround yourself with, the opinions of others, even the inertia of day-to-day life, will end up shaping you. “Start with an end in mind” is to know your direction. What kind of person do I want to be? That’s the question you need to know.The best way to do it?Write down your Personal Mission. It will be your logbook for life, the one that reminds you of what’s important and keeps your focus when chaos arises. Ask yourself:What do I want people to remember about me?What values will guide my decisions, even when no one is watching?What legacy do I want to leave?Design life instead of letting it happen randomly. Then you’ll be clear about your goal for the coming hours, days, months and years. You will move forward proactively.“Sow a thought, reap an action; sow an action, reap a habit; sow a habit, reap a character; sow a character, reap a destiny.” — Stephen CoveyHabit 3: Putting first things firstWe tend to believe that managing time is about managing a watch, when in reality it is about managing a compass. Our personal mission is “true north”.Focus on what really matters with the Eisenhower Matrix, which ranks your activities according to their urgency and importance. Many people spend their time reacting to what is urgent (but not necessarily important), which leaves them with no time for what matters. However, effective people spend most of their time in Quadrant 2: important but not urgent activities. That’s where your long-term goals, health, relationships and personal growth are.Automate, delegate and streamline the rest to make time for #2.Live in importance, not urgency.Habit 4: Thinking win-winWe tend to measure our value based on comparisons and competitions.We think of success as dependent on someone else’s failure: if I win, they lose; or if they win, I lose. It’s a scarcity mentality in which it seems that the number of opportunities is dwarfed and that you must do everything you can to get your share and they lose theirs.You have to get rid of that scarcity mentality.Win-win is the mentality of constantly finding solutions that produce mutual benefit. Empathy is not enough, you must invest in the needs of others and express your own, so that a beneficial exchange is generated. This is how we create solid relationships.This is the abundance mentality.“Maturity is balanced between the courage to express our ideas and the consideration to understand those of others.” — Stephen CoveyA single rower will never row as a team.Habit 5: Understand first, then be understoodWe tend to seek to impose our vision, but the key is to listen and understand.To communicate effectively, we must first understand the other person before trying to be understood. This means listening without interrupting, trying to see things from the other person’s perspective and understanding their emotions.Before responding, try to understand their view. Be interested in what they tell.When we truly listen to others, we create an environment of trust that makes it easier to solve problems and build strong relationships. Empathy opens doors and is crucial for teamwork and leadership.By mastering this habit, the win-win habit will emerge effortlessly.Habit 6: SynergizeTeamwork is more than just adding efforts.1 + 1 = 3, 30 or even 300.Synergy occurs when we collaborate to create results that exceed what we could achieve individually. Once you master Habit 5, you will leverage differences and foster an environment where diverse ideas are welcome.Synergy happens when those differences combine and give you an advantage.You may not have been able to accomplish the same thing on your own, but by collaborating, you accomplish so much more. As an extremely inspirational basketball coach I had once said, “a team is much more than 5 players on a court”.This is how to turn synergy into a habit:Question: are we all willing to try something new and different? Not my way or your way, but our way. Create something together that we would not have achieved alone.Define: Establish what team success means. What is our ultimate goal? Before you take a step, make sure you know where you want to go.Create: Start prototyping, testing ideas, generating alternatives and don’t just go with the first option that comes up. Try, learn from the mistake and iterate again. Brainwriting is an option.It happens: The magic happens. You find a solution you didn’t expect, an alternative that neither you nor I would have imagined on our own. That’s synergy.Habit 7: Sharpen the SawThe last habit has to do with the importance of continually renewing ourselves.Like the saw that wears out with constant use, people need time to rest, reflect and improve our skills. Covey divides it into 4 areas. If we neglect any of these areas, our effectiveness will plummet.Physical: Exercise, eat right, get enough sleep.Mental: Learn, hone our skills, read every day.Emotional: Investing in our relationships is investing in ourselves.Spiritual: Spending time on activities in line with our values.Think of other activities that sharpen your saw.“Renewal is the beginning (and the process) that allows us to move forward in an upward spiral of growth and change, of continuous improvement.” — Stephen Covey“There is no better way to inform yourself and expand your mind on a regular basis than to get into the habit of reading good literature.” — Stephen CoveyKeep your mind sharp, curious and ready for the challenges ahead.The 7 Habits of Highly Effective People is not a book you read and leave on the shelf. It is a reference book to find guidance as you move forward in life.Progress is not an accident; it is the result of our daily choices.✍️ It’s your turn: Which of these 7 habits are most present in your life? In which one do you think you can improve the most? Personally, I think I need to work especially on Habit 6: synergize. Sometimes I see that I can get even more out of teamwork.💭 Quote of the day: “The key is not to prioritize what’s on your agenda, but to put your priorities on the agenda.” Stephen R. Covey, The 7 Habits of Highly Effective People.HabitsProductivityPersonal DevelopmentLife LessonsInspiration----FollowWritten by Mental Garden1.3K Followers·0 FollowingDigital writer 🖥️ | I teach you productivity and psychology in useful lessons for life | +2M monthly views and author of +150 articlesFollowNo responses yetHelpStatusAboutCareersPressBlogPrivacyTermsText to speechTeams\n",
      "\n",
      "\n",
      "\n",
      "\n",
      "\n",
      "\n",
      "\n",
      "\n",
      "\n",
      "\n",
      "\n",
      "\n",
      "\n",
      "\n",
      "\n",
      "\n",
      "\n",
      "\n",
      "\n",
      "\n",
      "\n",
      "\n",
      "\n",
      "\n",
      "\n",
      "\n",
      "\n",
      "\n",
      "\n",
      "\n",
      "' metadata={'source': 'https://medium.com/@mentalgarden/the-7-habits-of-highly-effective-people-9ac054ceb590', 'title': 'The 7 Habits of Highly Effective People | by Mental Garden | Jan, 2025 | Medium', 'description': 'Almost all of us know that we could improve in aspects of our lives, both personally and professionally. But here’s the problem: we don’t know where to start or how to do it. Stephen Covey’s book The…', 'language': 'en'}\n"
     ]
    }
   ],
   "source": [
    "# first step is to load the documents\n",
    "from langchain_community.document_loaders import WebBaseLoader\n",
    "def load_documents(url):\n",
    "    loader=WebBaseLoader(url)\n",
    "    loader.requests_per_second=1\n",
    "    return loader.load()\n",
    "\n",
    "\n",
    "user_input=input(\"Enter the URL of the website you want to scrape: \")\n",
    "documents=load_documents(user_input)\n",
    "for i,doc in enumerate(documents):\n",
    "    print(f\"Document {i+1}: {doc}\")\n",
    "    "
   ]
  },
  {
   "cell_type": "code",
   "execution_count": 2,
   "metadata": {},
   "outputs": [
    {
     "data": {
      "text/plain": [
       "[Document(metadata={'source': 'https://medium.com/@mentalgarden/the-7-habits-of-highly-effective-people-9ac054ceb590', 'title': 'The 7 Habits of Highly Effective People | by Mental Garden | Jan, 2025 | Medium', 'description': 'Almost all of us know that we could improve in aspects of our lives, both personally and professionally. But here’s the problem: we don’t know where to start or how to do it. Stephen Covey’s book The…', 'language': 'en'}, page_content='The 7 Habits of Highly Effective People | by Mental Garden | Jan, 2025 | MediumOpen in appSign upSign inWriteSign upSign inThe 7 Habits of Highly Effective PeopleSmall changes, huge resultsMental Garden·Follow7 min read·Jan 26, 2025--ListenShareAlmost all of us know that we could improve in aspects of our lives, both personally and professionally. But here’s the problem: we don’t know where to'),\n",
       " Document(metadata={'source': 'https://medium.com/@mentalgarden/the-7-habits-of-highly-effective-people-9ac054ceb590', 'title': 'The 7 Habits of Highly Effective People | by Mental Garden | Jan, 2025 | Medium', 'description': 'Almost all of us know that we could improve in aspects of our lives, both personally and professionally. But here’s the problem: we don’t know where to start or how to do it. Stephen Covey’s book The…', 'language': 'en'}, page_content='don’t know where to start or how to do it.Stephen Covey’s book The 7 Habits of Highly Effective People provides a clear and practical answer to overcome just such a blockage.The idea of the book is simple: to maximize the potential of whoever reads it. Covey analyzes patterns observed in great personalities from various fields and translates them into habits that we can all adopt. By the end of'),\n",
       " Document(metadata={'source': 'https://medium.com/@mentalgarden/the-7-habits-of-highly-effective-people-9ac054ceb590', 'title': 'The 7 Habits of Highly Effective People | by Mental Garden | Jan, 2025 | Medium', 'description': 'Almost all of us know that we could improve in aspects of our lives, both personally and professionally. But here’s the problem: we don’t know where to start or how to do it. Stephen Covey’s book The…', 'language': 'en'}, page_content='By the end of reading this text, you will understand how to integrate these principles into your daily life to go one step further in your development.These are the 7 key habits.Habit 1: Being proactive, the power of choiceProactivity is the foundation of effectiveness.Being proactive means taking responsibility for our decisions and actions. It is the first habit because the rest depends on us'),\n",
       " Document(metadata={'source': 'https://medium.com/@mentalgarden/the-7-habits-of-highly-effective-people-9ac054ceb590', 'title': 'The 7 Habits of Highly Effective People | by Mental Garden | Jan, 2025 | Medium', 'description': 'Almost all of us know that we could improve in aspects of our lives, both personally and professionally. But here’s the problem: we don’t know where to start or how to do it. Stephen Covey’s book The…', 'language': 'en'}, page_content='rest depends on us being proactive and not reactive people, i.e., making things happen rather than waiting for them to happen.The key to mastering this habit is to understand that while external circumstances are often not in our control, our response to those circumstances always is. Proactive people are clear about this and focus on their “circle of influence” (that which they can control)'),\n",
       " Document(metadata={'source': 'https://medium.com/@mentalgarden/the-7-habits-of-highly-effective-people-9ac054ceb590', 'title': 'The 7 Habits of Highly Effective People | by Mental Garden | Jan, 2025 | Medium', 'description': 'Almost all of us know that we could improve in aspects of our lives, both personally and professionally. But here’s the problem: we don’t know where to start or how to do it. Stephen Covey’s book The…', 'language': 'en'}, page_content='they can control) rather than wearing themselves out with the “circle of worry” (unchangeable external circumstances).How to apply it?If publishers don’t publish your writing, instead of getting discouraged, take action in your circle of influence; start writing online and build your reputation.If prices go up, instead of lamenting, review your finances and look for ways to optimize your expenses'),\n",
       " Document(metadata={'source': 'https://medium.com/@mentalgarden/the-7-habits-of-highly-effective-people-9ac054ceb590', 'title': 'The 7 Habits of Highly Effective People | by Mental Garden | Jan, 2025 | Medium', 'description': 'Almost all of us know that we could improve in aspects of our lives, both personally and professionally. But here’s the problem: we don’t know where to start or how to do it. Stephen Covey’s book The…', 'language': 'en'}, page_content='your expenses or think of some extra income to improve the situation.Over time, your circle will lead you to opportunities that were impossible before.Habit 2: Start with an end in mindIf you don’t define who you are and where you want to go, someone else will do it for you.Circumstances, people you surround yourself with, the opinions of others, even the inertia of day-to-day life, will end up'),\n",
       " Document(metadata={'source': 'https://medium.com/@mentalgarden/the-7-habits-of-highly-effective-people-9ac054ceb590', 'title': 'The 7 Habits of Highly Effective People | by Mental Garden | Jan, 2025 | Medium', 'description': 'Almost all of us know that we could improve in aspects of our lives, both personally and professionally. But here’s the problem: we don’t know where to start or how to do it. Stephen Covey’s book The…', 'language': 'en'}, page_content='life, will end up shaping you. “Start with an end in mind” is to know your direction. What kind of person do I want to be? That’s the question you need to know.The best way to do it?Write down your Personal Mission. It will be your logbook for life, the one that reminds you of what’s important and keeps your focus when chaos arises. Ask yourself:What do I want people to remember about me?What'),\n",
       " Document(metadata={'source': 'https://medium.com/@mentalgarden/the-7-habits-of-highly-effective-people-9ac054ceb590', 'title': 'The 7 Habits of Highly Effective People | by Mental Garden | Jan, 2025 | Medium', 'description': 'Almost all of us know that we could improve in aspects of our lives, both personally and professionally. But here’s the problem: we don’t know where to start or how to do it. Stephen Covey’s book The…', 'language': 'en'}, page_content='about me?What values will guide my decisions, even when no one is watching?What legacy do I want to leave?Design life instead of letting it happen randomly. Then you’ll be clear about your goal for the coming hours, days, months and years. You will move forward proactively.“Sow a thought, reap an action; sow an action, reap a habit; sow a habit, reap a character; sow a character, reap a destiny.”'),\n",
       " Document(metadata={'source': 'https://medium.com/@mentalgarden/the-7-habits-of-highly-effective-people-9ac054ceb590', 'title': 'The 7 Habits of Highly Effective People | by Mental Garden | Jan, 2025 | Medium', 'description': 'Almost all of us know that we could improve in aspects of our lives, both personally and professionally. But here’s the problem: we don’t know where to start or how to do it. Stephen Covey’s book The…', 'language': 'en'}, page_content='reap a destiny.” — Stephen CoveyHabit 3: Putting first things firstWe tend to believe that managing time is about managing a watch, when in reality it is about managing a compass. Our personal mission is “true north”.Focus on what really matters with the Eisenhower Matrix, which ranks your activities according to their urgency and importance. Many people spend their time reacting to what is'),\n",
       " Document(metadata={'source': 'https://medium.com/@mentalgarden/the-7-habits-of-highly-effective-people-9ac054ceb590', 'title': 'The 7 Habits of Highly Effective People | by Mental Garden | Jan, 2025 | Medium', 'description': 'Almost all of us know that we could improve in aspects of our lives, both personally and professionally. But here’s the problem: we don’t know where to start or how to do it. Stephen Covey’s book The…', 'language': 'en'}, page_content='reacting to what is urgent (but not necessarily important), which leaves them with no time for what matters. However, effective people spend most of their time in Quadrant 2: important but not urgent activities. That’s where your long-term goals, health, relationships and personal growth are.Automate, delegate and streamline the rest to make time for #2.Live in importance, not urgency.Habit 4:'),\n",
       " Document(metadata={'source': 'https://medium.com/@mentalgarden/the-7-habits-of-highly-effective-people-9ac054ceb590', 'title': 'The 7 Habits of Highly Effective People | by Mental Garden | Jan, 2025 | Medium', 'description': 'Almost all of us know that we could improve in aspects of our lives, both personally and professionally. But here’s the problem: we don’t know where to start or how to do it. Stephen Covey’s book The…', 'language': 'en'}, page_content='urgency.Habit 4: Thinking win-winWe tend to measure our value based on comparisons and competitions.We think of success as dependent on someone else’s failure: if I win, they lose; or if they win, I lose. It’s a scarcity mentality in which it seems that the number of opportunities is dwarfed and that you must do everything you can to get your share and they lose theirs.You have to get rid of that'),\n",
       " Document(metadata={'source': 'https://medium.com/@mentalgarden/the-7-habits-of-highly-effective-people-9ac054ceb590', 'title': 'The 7 Habits of Highly Effective People | by Mental Garden | Jan, 2025 | Medium', 'description': 'Almost all of us know that we could improve in aspects of our lives, both personally and professionally. But here’s the problem: we don’t know where to start or how to do it. Stephen Covey’s book The…', 'language': 'en'}, page_content='to get rid of that scarcity mentality.Win-win is the mentality of constantly finding solutions that produce mutual benefit. Empathy is not enough, you must invest in the needs of others and express your own, so that a beneficial exchange is generated. This is how we create solid relationships.This is the abundance mentality.“Maturity is balanced between the courage to express our ideas and the'),\n",
       " Document(metadata={'source': 'https://medium.com/@mentalgarden/the-7-habits-of-highly-effective-people-9ac054ceb590', 'title': 'The 7 Habits of Highly Effective People | by Mental Garden | Jan, 2025 | Medium', 'description': 'Almost all of us know that we could improve in aspects of our lives, both personally and professionally. But here’s the problem: we don’t know where to start or how to do it. Stephen Covey’s book The…', 'language': 'en'}, page_content='our ideas and the consideration to understand those of others.” — Stephen CoveyA single rower will never row as a team.Habit 5: Understand first, then be understoodWe tend to seek to impose our vision, but the key is to listen and understand.To communicate effectively, we must first understand the other person before trying to be understood. This means listening without interrupting, trying to'),\n",
       " Document(metadata={'source': 'https://medium.com/@mentalgarden/the-7-habits-of-highly-effective-people-9ac054ceb590', 'title': 'The 7 Habits of Highly Effective People | by Mental Garden | Jan, 2025 | Medium', 'description': 'Almost all of us know that we could improve in aspects of our lives, both personally and professionally. But here’s the problem: we don’t know where to start or how to do it. Stephen Covey’s book The…', 'language': 'en'}, page_content='trying to see things from the other person’s perspective and understanding their emotions.Before responding, try to understand their view. Be interested in what they tell.When we truly listen to others, we create an environment of trust that makes it easier to solve problems and build strong relationships. Empathy opens doors and is crucial for teamwork and leadership.By mastering this habit, the'),\n",
       " Document(metadata={'source': 'https://medium.com/@mentalgarden/the-7-habits-of-highly-effective-people-9ac054ceb590', 'title': 'The 7 Habits of Highly Effective People | by Mental Garden | Jan, 2025 | Medium', 'description': 'Almost all of us know that we could improve in aspects of our lives, both personally and professionally. But here’s the problem: we don’t know where to start or how to do it. Stephen Covey’s book The…', 'language': 'en'}, page_content='this habit, the win-win habit will emerge effortlessly.Habit 6: SynergizeTeamwork is more than just adding efforts.1 + 1 = 3, 30 or even 300.Synergy occurs when we collaborate to create results that exceed what we could achieve individually. Once you master Habit 5, you will leverage differences and foster an environment where diverse ideas are welcome.Synergy happens when those differences'),\n",
       " Document(metadata={'source': 'https://medium.com/@mentalgarden/the-7-habits-of-highly-effective-people-9ac054ceb590', 'title': 'The 7 Habits of Highly Effective People | by Mental Garden | Jan, 2025 | Medium', 'description': 'Almost all of us know that we could improve in aspects of our lives, both personally and professionally. But here’s the problem: we don’t know where to start or how to do it. Stephen Covey’s book The…', 'language': 'en'}, page_content='those differences combine and give you an advantage.You may not have been able to accomplish the same thing on your own, but by collaborating, you accomplish so much more. As an extremely inspirational basketball coach I had once said, “a team is much more than 5 players on a court”.This is how to turn synergy into a habit:Question: are we all willing to try something new and different? Not my'),\n",
       " Document(metadata={'source': 'https://medium.com/@mentalgarden/the-7-habits-of-highly-effective-people-9ac054ceb590', 'title': 'The 7 Habits of Highly Effective People | by Mental Garden | Jan, 2025 | Medium', 'description': 'Almost all of us know that we could improve in aspects of our lives, both personally and professionally. But here’s the problem: we don’t know where to start or how to do it. Stephen Covey’s book The…', 'language': 'en'}, page_content='different? Not my way or your way, but our way. Create something together that we would not have achieved alone.Define: Establish what team success means. What is our ultimate goal? Before you take a step, make sure you know where you want to go.Create: Start prototyping, testing ideas, generating alternatives and don’t just go with the first option that comes up. Try, learn from the mistake and'),\n",
       " Document(metadata={'source': 'https://medium.com/@mentalgarden/the-7-habits-of-highly-effective-people-9ac054ceb590', 'title': 'The 7 Habits of Highly Effective People | by Mental Garden | Jan, 2025 | Medium', 'description': 'Almost all of us know that we could improve in aspects of our lives, both personally and professionally. But here’s the problem: we don’t know where to start or how to do it. Stephen Covey’s book The…', 'language': 'en'}, page_content='the mistake and iterate again. Brainwriting is an option.It happens: The magic happens. You find a solution you didn’t expect, an alternative that neither you nor I would have imagined on our own. That’s synergy.Habit 7: Sharpen the SawThe last habit has to do with the importance of continually renewing ourselves.Like the saw that wears out with constant use, people need time to rest, reflect and'),\n",
       " Document(metadata={'source': 'https://medium.com/@mentalgarden/the-7-habits-of-highly-effective-people-9ac054ceb590', 'title': 'The 7 Habits of Highly Effective People | by Mental Garden | Jan, 2025 | Medium', 'description': 'Almost all of us know that we could improve in aspects of our lives, both personally and professionally. But here’s the problem: we don’t know where to start or how to do it. Stephen Covey’s book The…', 'language': 'en'}, page_content='rest, reflect and improve our skills. Covey divides it into 4 areas. If we neglect any of these areas, our effectiveness will plummet.Physical: Exercise, eat right, get enough sleep.Mental: Learn, hone our skills, read every day.Emotional: Investing in our relationships is investing in ourselves.Spiritual: Spending time on activities in line with our values.Think of other activities that sharpen'),\n",
       " Document(metadata={'source': 'https://medium.com/@mentalgarden/the-7-habits-of-highly-effective-people-9ac054ceb590', 'title': 'The 7 Habits of Highly Effective People | by Mental Garden | Jan, 2025 | Medium', 'description': 'Almost all of us know that we could improve in aspects of our lives, both personally and professionally. But here’s the problem: we don’t know where to start or how to do it. Stephen Covey’s book The…', 'language': 'en'}, page_content='that sharpen your saw.“Renewal is the beginning (and the process) that allows us to move forward in an upward spiral of growth and change, of continuous improvement.” — Stephen Covey“There is no better way to inform yourself and expand your mind on a regular basis than to get into the habit of reading good literature.” — Stephen CoveyKeep your mind sharp, curious and ready for the challenges'),\n",
       " Document(metadata={'source': 'https://medium.com/@mentalgarden/the-7-habits-of-highly-effective-people-9ac054ceb590', 'title': 'The 7 Habits of Highly Effective People | by Mental Garden | Jan, 2025 | Medium', 'description': 'Almost all of us know that we could improve in aspects of our lives, both personally and professionally. But here’s the problem: we don’t know where to start or how to do it. Stephen Covey’s book The…', 'language': 'en'}, page_content='for the challenges ahead.The 7 Habits of Highly Effective People is not a book you read and leave on the shelf. It is a reference book to find guidance as you move forward in life.Progress is not an accident; it is the result of our daily choices.✍️ It’s your turn: Which of these 7 habits are most present in your life? In which one do you think you can improve the most? Personally, I think I need'),\n",
       " Document(metadata={'source': 'https://medium.com/@mentalgarden/the-7-habits-of-highly-effective-people-9ac054ceb590', 'title': 'The 7 Habits of Highly Effective People | by Mental Garden | Jan, 2025 | Medium', 'description': 'Almost all of us know that we could improve in aspects of our lives, both personally and professionally. But here’s the problem: we don’t know where to start or how to do it. Stephen Covey’s book The…', 'language': 'en'}, page_content='I think I need to work especially on Habit 6: synergize. Sometimes I see that I can get even more out of teamwork.💭 Quote of the day: “The key is not to prioritize what’s on your agenda, but to put your priorities on the agenda.” Stephen R. Covey, The 7 Habits of Highly Effective People.HabitsProductivityPersonal DevelopmentLife LessonsInspiration----FollowWritten by Mental Garden1.3K Followers·0'),\n",
       " Document(metadata={'source': 'https://medium.com/@mentalgarden/the-7-habits-of-highly-effective-people-9ac054ceb590', 'title': 'The 7 Habits of Highly Effective People | by Mental Garden | Jan, 2025 | Medium', 'description': 'Almost all of us know that we could improve in aspects of our lives, both personally and professionally. But here’s the problem: we don’t know where to start or how to do it. Stephen Covey’s book The…', 'language': 'en'}, page_content='Followers·0 FollowingDigital writer 🖥️ | I teach you productivity and psychology in useful lessons for life | +2M monthly views and author of +150 articlesFollowNo responses yetHelpStatusAboutCareersPressBlogPrivacyTermsText to speechTeams')]"
      ]
     },
     "execution_count": 2,
     "metadata": {},
     "output_type": "execute_result"
    }
   ],
   "source": [
    "#second is to split the text\n",
    "from langchain_text_splitters import RecursiveCharacterTextSplitter # Changed import statement\n",
    "def split_file(loaded_file):\n",
    "    text_splitter=RecursiveCharacterTextSplitter(chunk_size=400,chunk_overlap=20)\n",
    "    return text_splitter.split_documents(loaded_file)\n",
    "\n",
    "\n",
    "splited_file=split_file(documents)\n",
    "splited_file"
   ]
  },
  {
   "cell_type": "code",
   "execution_count": 2,
   "metadata": {},
   "outputs": [],
   "source": [
    "from dotenv import load_dotenv \n",
    "import os\n",
    "load_dotenv()\n",
    "key1=os.environ['chabi1']\n",
    "key2=os.environ['chabi2']\n",
    "\n"
   ]
  },
  {
   "cell_type": "code",
   "execution_count": 4,
   "metadata": {},
   "outputs": [
    {
     "name": "stderr",
     "output_type": "stream",
     "text": [
      "c:\\Users\\saram\\OneDrive\\Desktop\\virtualenv\\venv\\Lib\\site-packages\\tqdm\\auto.py:21: TqdmWarning: IProgress not found. Please update jupyter and ipywidgets. See https://ipywidgets.readthedocs.io/en/stable/user_install.html\n",
      "  from .autonotebook import tqdm as notebook_tqdm\n"
     ]
    },
    {
     "data": {
      "text/plain": [
       "768"
      ]
     },
     "execution_count": 4,
     "metadata": {},
     "output_type": "execute_result"
    }
   ],
   "source": [
    "from langchain_google_genai import GoogleGenerativeAIEmbeddings\n",
    "\n",
    "embeddings = GoogleGenerativeAIEmbeddings(model=\"models/embedding-001\",google_api_key=key1)\n",
    "vector = embeddings.embed_query(\"saram\")\n",
    "len(vector)"
   ]
  },
  {
   "cell_type": "code",
   "execution_count": 3,
   "metadata": {},
   "outputs": [
    {
     "name": "stdout",
     "output_type": "stream",
     "text": [
      "some network error occured\n",
      "Qdrant collection not created--------------->\n"
     ]
    }
   ],
   "source": [
    "from langchain_qdrant import QdrantVectorStore\n",
    "from dotenv import load_dotenv \n",
    "import os\n",
    "load_dotenv()\n",
    "os.environ['chabi2'] = key2\n",
    "try:\n",
    "\n",
    "  url=\"https://330583f3-8815-45e6-8438-cc963eee1961.europe-west3-0.gcp.cloud.qdrant.io\"\n",
    "  api_key=key2\n",
    "  qdrant = QdrantVectorStore.from_documents(\n",
    "    splited_file,\n",
    "    embeddings,\n",
    "    url=url,\n",
    "    \n",
    "    api_key=api_key,\n",
    "    collection_name=\"url-rag-project\",\n",
    "    timeout=120\n",
    ")\n",
    "  print(\"Qdrant collection created--------------->\")\n",
    "\n",
    "except Exception as e:\n",
    "    print(\"some network error occured\")\n",
    "    print(\"Qdrant collection not created--------------->\")\n"
   ]
  },
  {
   "cell_type": "code",
   "execution_count": 6,
   "metadata": {},
   "outputs": [
    {
     "ename": "GoogleGenerativeAIError",
     "evalue": "Error embedding content: 504 Deadline Exceeded",
     "output_type": "error",
     "traceback": [
      "\u001b[1;31m---------------------------------------------------------------------------\u001b[0m",
      "\u001b[1;31mDeadlineExceeded\u001b[0m                          Traceback (most recent call last)",
      "File \u001b[1;32mc:\\Users\\saram\\OneDrive\\Desktop\\virtualenv\\venv\\Lib\\site-packages\\langchain_google_genai\\embeddings.py:227\u001b[0m, in \u001b[0;36mGoogleGenerativeAIEmbeddings.embed_documents\u001b[1;34m(self, texts, batch_size, task_type, titles, output_dimensionality)\u001b[0m\n\u001b[0;32m    226\u001b[0m \u001b[38;5;28;01mtry\u001b[39;00m:\n\u001b[1;32m--> 227\u001b[0m     result \u001b[38;5;241m=\u001b[39m \u001b[38;5;28;43mself\u001b[39;49m\u001b[38;5;241;43m.\u001b[39;49m\u001b[43mclient\u001b[49m\u001b[38;5;241;43m.\u001b[39;49m\u001b[43mbatch_embed_contents\u001b[49m\u001b[43m(\u001b[49m\n\u001b[0;32m    228\u001b[0m \u001b[43m        \u001b[49m\u001b[43mBatchEmbedContentsRequest\u001b[49m\u001b[43m(\u001b[49m\u001b[43mrequests\u001b[49m\u001b[38;5;241;43m=\u001b[39;49m\u001b[43mrequests\u001b[49m\u001b[43m,\u001b[49m\u001b[43m \u001b[49m\u001b[43mmodel\u001b[49m\u001b[38;5;241;43m=\u001b[39;49m\u001b[38;5;28;43mself\u001b[39;49m\u001b[38;5;241;43m.\u001b[39;49m\u001b[43mmodel\u001b[49m\u001b[43m)\u001b[49m\n\u001b[0;32m    229\u001b[0m \u001b[43m    \u001b[49m\u001b[43m)\u001b[49m\n\u001b[0;32m    230\u001b[0m \u001b[38;5;28;01mexcept\u001b[39;00m \u001b[38;5;167;01mException\u001b[39;00m \u001b[38;5;28;01mas\u001b[39;00m e:\n",
      "File \u001b[1;32mc:\\Users\\saram\\OneDrive\\Desktop\\virtualenv\\venv\\Lib\\site-packages\\google\\ai\\generativelanguage_v1beta\\services\\generative_service\\client.py:1392\u001b[0m, in \u001b[0;36mGenerativeServiceClient.batch_embed_contents\u001b[1;34m(self, request, model, requests, retry, timeout, metadata)\u001b[0m\n\u001b[0;32m   1391\u001b[0m \u001b[38;5;66;03m# Send the request.\u001b[39;00m\n\u001b[1;32m-> 1392\u001b[0m response \u001b[38;5;241m=\u001b[39m \u001b[43mrpc\u001b[49m\u001b[43m(\u001b[49m\n\u001b[0;32m   1393\u001b[0m \u001b[43m    \u001b[49m\u001b[43mrequest\u001b[49m\u001b[43m,\u001b[49m\n\u001b[0;32m   1394\u001b[0m \u001b[43m    \u001b[49m\u001b[43mretry\u001b[49m\u001b[38;5;241;43m=\u001b[39;49m\u001b[43mretry\u001b[49m\u001b[43m,\u001b[49m\n\u001b[0;32m   1395\u001b[0m \u001b[43m    \u001b[49m\u001b[43mtimeout\u001b[49m\u001b[38;5;241;43m=\u001b[39;49m\u001b[43mtimeout\u001b[49m\u001b[43m,\u001b[49m\n\u001b[0;32m   1396\u001b[0m \u001b[43m    \u001b[49m\u001b[43mmetadata\u001b[49m\u001b[38;5;241;43m=\u001b[39;49m\u001b[43mmetadata\u001b[49m\u001b[43m,\u001b[49m\n\u001b[0;32m   1397\u001b[0m \u001b[43m\u001b[49m\u001b[43m)\u001b[49m\n\u001b[0;32m   1399\u001b[0m \u001b[38;5;66;03m# Done; return the response.\u001b[39;00m\n",
      "File \u001b[1;32mc:\\Users\\saram\\OneDrive\\Desktop\\virtualenv\\venv\\Lib\\site-packages\\google\\api_core\\gapic_v1\\method.py:131\u001b[0m, in \u001b[0;36m_GapicCallable.__call__\u001b[1;34m(self, timeout, retry, compression, *args, **kwargs)\u001b[0m\n\u001b[0;32m    129\u001b[0m     kwargs[\u001b[38;5;124m\"\u001b[39m\u001b[38;5;124mcompression\u001b[39m\u001b[38;5;124m\"\u001b[39m] \u001b[38;5;241m=\u001b[39m compression\n\u001b[1;32m--> 131\u001b[0m \u001b[38;5;28;01mreturn\u001b[39;00m \u001b[43mwrapped_func\u001b[49m\u001b[43m(\u001b[49m\u001b[38;5;241;43m*\u001b[39;49m\u001b[43margs\u001b[49m\u001b[43m,\u001b[49m\u001b[43m \u001b[49m\u001b[38;5;241;43m*\u001b[39;49m\u001b[38;5;241;43m*\u001b[39;49m\u001b[43mkwargs\u001b[49m\u001b[43m)\u001b[49m\n",
      "File \u001b[1;32mc:\\Users\\saram\\OneDrive\\Desktop\\virtualenv\\venv\\Lib\\site-packages\\google\\api_core\\retry\\retry_unary.py:293\u001b[0m, in \u001b[0;36mRetry.__call__.<locals>.retry_wrapped_func\u001b[1;34m(*args, **kwargs)\u001b[0m\n\u001b[0;32m    290\u001b[0m sleep_generator \u001b[38;5;241m=\u001b[39m exponential_sleep_generator(\n\u001b[0;32m    291\u001b[0m     \u001b[38;5;28mself\u001b[39m\u001b[38;5;241m.\u001b[39m_initial, \u001b[38;5;28mself\u001b[39m\u001b[38;5;241m.\u001b[39m_maximum, multiplier\u001b[38;5;241m=\u001b[39m\u001b[38;5;28mself\u001b[39m\u001b[38;5;241m.\u001b[39m_multiplier\n\u001b[0;32m    292\u001b[0m )\n\u001b[1;32m--> 293\u001b[0m \u001b[38;5;28;01mreturn\u001b[39;00m \u001b[43mretry_target\u001b[49m\u001b[43m(\u001b[49m\n\u001b[0;32m    294\u001b[0m \u001b[43m    \u001b[49m\u001b[43mtarget\u001b[49m\u001b[43m,\u001b[49m\n\u001b[0;32m    295\u001b[0m \u001b[43m    \u001b[49m\u001b[38;5;28;43mself\u001b[39;49m\u001b[38;5;241;43m.\u001b[39;49m\u001b[43m_predicate\u001b[49m\u001b[43m,\u001b[49m\n\u001b[0;32m    296\u001b[0m \u001b[43m    \u001b[49m\u001b[43msleep_generator\u001b[49m\u001b[43m,\u001b[49m\n\u001b[0;32m    297\u001b[0m \u001b[43m    \u001b[49m\u001b[43mtimeout\u001b[49m\u001b[38;5;241;43m=\u001b[39;49m\u001b[38;5;28;43mself\u001b[39;49m\u001b[38;5;241;43m.\u001b[39;49m\u001b[43m_timeout\u001b[49m\u001b[43m,\u001b[49m\n\u001b[0;32m    298\u001b[0m \u001b[43m    \u001b[49m\u001b[43mon_error\u001b[49m\u001b[38;5;241;43m=\u001b[39;49m\u001b[43mon_error\u001b[49m\u001b[43m,\u001b[49m\n\u001b[0;32m    299\u001b[0m \u001b[43m\u001b[49m\u001b[43m)\u001b[49m\n",
      "File \u001b[1;32mc:\\Users\\saram\\OneDrive\\Desktop\\virtualenv\\venv\\Lib\\site-packages\\google\\api_core\\retry\\retry_unary.py:153\u001b[0m, in \u001b[0;36mretry_target\u001b[1;34m(target, predicate, sleep_generator, timeout, on_error, exception_factory, **kwargs)\u001b[0m\n\u001b[0;32m    151\u001b[0m \u001b[38;5;28;01mexcept\u001b[39;00m \u001b[38;5;167;01mException\u001b[39;00m \u001b[38;5;28;01mas\u001b[39;00m exc:\n\u001b[0;32m    152\u001b[0m     \u001b[38;5;66;03m# defer to shared logic for handling errors\u001b[39;00m\n\u001b[1;32m--> 153\u001b[0m     \u001b[43m_retry_error_helper\u001b[49m\u001b[43m(\u001b[49m\n\u001b[0;32m    154\u001b[0m \u001b[43m        \u001b[49m\u001b[43mexc\u001b[49m\u001b[43m,\u001b[49m\n\u001b[0;32m    155\u001b[0m \u001b[43m        \u001b[49m\u001b[43mdeadline\u001b[49m\u001b[43m,\u001b[49m\n\u001b[0;32m    156\u001b[0m \u001b[43m        \u001b[49m\u001b[43msleep\u001b[49m\u001b[43m,\u001b[49m\n\u001b[0;32m    157\u001b[0m \u001b[43m        \u001b[49m\u001b[43merror_list\u001b[49m\u001b[43m,\u001b[49m\n\u001b[0;32m    158\u001b[0m \u001b[43m        \u001b[49m\u001b[43mpredicate\u001b[49m\u001b[43m,\u001b[49m\n\u001b[0;32m    159\u001b[0m \u001b[43m        \u001b[49m\u001b[43mon_error\u001b[49m\u001b[43m,\u001b[49m\n\u001b[0;32m    160\u001b[0m \u001b[43m        \u001b[49m\u001b[43mexception_factory\u001b[49m\u001b[43m,\u001b[49m\n\u001b[0;32m    161\u001b[0m \u001b[43m        \u001b[49m\u001b[43mtimeout\u001b[49m\u001b[43m,\u001b[49m\n\u001b[0;32m    162\u001b[0m \u001b[43m    \u001b[49m\u001b[43m)\u001b[49m\n\u001b[0;32m    163\u001b[0m     \u001b[38;5;66;03m# if exception not raised, sleep before next attempt\u001b[39;00m\n",
      "File \u001b[1;32mc:\\Users\\saram\\OneDrive\\Desktop\\virtualenv\\venv\\Lib\\site-packages\\google\\api_core\\retry\\retry_base.py:212\u001b[0m, in \u001b[0;36m_retry_error_helper\u001b[1;34m(exc, deadline, next_sleep, error_list, predicate_fn, on_error_fn, exc_factory_fn, original_timeout)\u001b[0m\n\u001b[0;32m    207\u001b[0m     final_exc, source_exc \u001b[38;5;241m=\u001b[39m exc_factory_fn(\n\u001b[0;32m    208\u001b[0m         error_list,\n\u001b[0;32m    209\u001b[0m         RetryFailureReason\u001b[38;5;241m.\u001b[39mNON_RETRYABLE_ERROR,\n\u001b[0;32m    210\u001b[0m         original_timeout,\n\u001b[0;32m    211\u001b[0m     )\n\u001b[1;32m--> 212\u001b[0m     \u001b[38;5;28;01mraise\u001b[39;00m final_exc \u001b[38;5;28;01mfrom\u001b[39;00m\u001b[38;5;250m \u001b[39m\u001b[38;5;21;01msource_exc\u001b[39;00m\n\u001b[0;32m    213\u001b[0m \u001b[38;5;28;01mif\u001b[39;00m on_error_fn \u001b[38;5;129;01mis\u001b[39;00m \u001b[38;5;129;01mnot\u001b[39;00m \u001b[38;5;28;01mNone\u001b[39;00m:\n",
      "File \u001b[1;32mc:\\Users\\saram\\OneDrive\\Desktop\\virtualenv\\venv\\Lib\\site-packages\\google\\api_core\\retry\\retry_unary.py:144\u001b[0m, in \u001b[0;36mretry_target\u001b[1;34m(target, predicate, sleep_generator, timeout, on_error, exception_factory, **kwargs)\u001b[0m\n\u001b[0;32m    143\u001b[0m \u001b[38;5;28;01mtry\u001b[39;00m:\n\u001b[1;32m--> 144\u001b[0m     result \u001b[38;5;241m=\u001b[39m \u001b[43mtarget\u001b[49m\u001b[43m(\u001b[49m\u001b[43m)\u001b[49m\n\u001b[0;32m    145\u001b[0m     \u001b[38;5;28;01mif\u001b[39;00m inspect\u001b[38;5;241m.\u001b[39misawaitable(result):\n",
      "File \u001b[1;32mc:\\Users\\saram\\OneDrive\\Desktop\\virtualenv\\venv\\Lib\\site-packages\\google\\api_core\\timeout.py:130\u001b[0m, in \u001b[0;36mTimeToDeadlineTimeout.__call__.<locals>.func_with_timeout\u001b[1;34m(*args, **kwargs)\u001b[0m\n\u001b[0;32m    128\u001b[0m     kwargs[\u001b[38;5;124m\"\u001b[39m\u001b[38;5;124mtimeout\u001b[39m\u001b[38;5;124m\"\u001b[39m] \u001b[38;5;241m=\u001b[39m remaining_timeout\n\u001b[1;32m--> 130\u001b[0m \u001b[38;5;28;01mreturn\u001b[39;00m \u001b[43mfunc\u001b[49m\u001b[43m(\u001b[49m\u001b[38;5;241;43m*\u001b[39;49m\u001b[43margs\u001b[49m\u001b[43m,\u001b[49m\u001b[43m \u001b[49m\u001b[38;5;241;43m*\u001b[39;49m\u001b[38;5;241;43m*\u001b[39;49m\u001b[43mkwargs\u001b[49m\u001b[43m)\u001b[49m\n",
      "File \u001b[1;32mc:\\Users\\saram\\OneDrive\\Desktop\\virtualenv\\venv\\Lib\\site-packages\\google\\api_core\\grpc_helpers.py:78\u001b[0m, in \u001b[0;36m_wrap_unary_errors.<locals>.error_remapped_callable\u001b[1;34m(*args, **kwargs)\u001b[0m\n\u001b[0;32m     77\u001b[0m \u001b[38;5;28;01mexcept\u001b[39;00m grpc\u001b[38;5;241m.\u001b[39mRpcError \u001b[38;5;28;01mas\u001b[39;00m exc:\n\u001b[1;32m---> 78\u001b[0m     \u001b[38;5;28;01mraise\u001b[39;00m exceptions\u001b[38;5;241m.\u001b[39mfrom_grpc_error(exc) \u001b[38;5;28;01mfrom\u001b[39;00m\u001b[38;5;250m \u001b[39m\u001b[38;5;21;01mexc\u001b[39;00m\n",
      "\u001b[1;31mDeadlineExceeded\u001b[0m: 504 Deadline Exceeded",
      "\nThe above exception was the direct cause of the following exception:\n",
      "\u001b[1;31mGoogleGenerativeAIError\u001b[0m                   Traceback (most recent call last)",
      "Cell \u001b[1;32mIn[6], line 3\u001b[0m\n\u001b[0;32m      1\u001b[0m query\u001b[38;5;241m=\u001b[39m\u001b[38;5;28minput\u001b[39m(\u001b[38;5;124m\"\u001b[39m\u001b[38;5;124mwhat u want to search before chaining??\u001b[39m\u001b[38;5;124m\"\u001b[39m)\n\u001b[1;32m----> 3\u001b[0m results \u001b[38;5;241m=\u001b[39m \u001b[43mqdrant\u001b[49m\u001b[38;5;241;43m.\u001b[39;49m\u001b[43msimilarity_search\u001b[49m\u001b[43m(\u001b[49m\n\u001b[0;32m      4\u001b[0m \u001b[43m    \u001b[49m\u001b[43mquery\u001b[49m\u001b[43m,\u001b[49m\u001b[43m \u001b[49m\u001b[43mk\u001b[49m\u001b[38;5;241;43m=\u001b[39;49m\u001b[38;5;241;43m4\u001b[39;49m\n\u001b[0;32m      5\u001b[0m \u001b[43m)\u001b[49m\n\u001b[0;32m      6\u001b[0m \u001b[38;5;28;01mfor\u001b[39;00m res \u001b[38;5;129;01min\u001b[39;00m results:\n\u001b[0;32m      7\u001b[0m     \u001b[38;5;28mprint\u001b[39m(\u001b[38;5;124mf\u001b[39m\u001b[38;5;124m\"\u001b[39m\u001b[38;5;124m* \u001b[39m\u001b[38;5;132;01m{\u001b[39;00mres\u001b[38;5;241m.\u001b[39mpage_content\u001b[38;5;132;01m}\u001b[39;00m\u001b[38;5;124m [\u001b[39m\u001b[38;5;132;01m{\u001b[39;00mres\u001b[38;5;241m.\u001b[39mmetadata\u001b[38;5;132;01m}\u001b[39;00m\u001b[38;5;124m]\u001b[39m\u001b[38;5;124m\"\u001b[39m)\n",
      "File \u001b[1;32mc:\\Users\\saram\\OneDrive\\Desktop\\virtualenv\\venv\\Lib\\site-packages\\langchain_qdrant\\qdrant.py:468\u001b[0m, in \u001b[0;36mQdrantVectorStore.similarity_search\u001b[1;34m(self, query, k, filter, search_params, offset, score_threshold, consistency, hybrid_fusion, **kwargs)\u001b[0m\n\u001b[0;32m    451\u001b[0m \u001b[38;5;28;01mdef\u001b[39;00m\u001b[38;5;250m \u001b[39m\u001b[38;5;21msimilarity_search\u001b[39m(\n\u001b[0;32m    452\u001b[0m     \u001b[38;5;28mself\u001b[39m,\n\u001b[0;32m    453\u001b[0m     query: \u001b[38;5;28mstr\u001b[39m,\n\u001b[1;32m   (...)\u001b[0m\n\u001b[0;32m    461\u001b[0m     \u001b[38;5;241m*\u001b[39m\u001b[38;5;241m*\u001b[39mkwargs: Any,\n\u001b[0;32m    462\u001b[0m ) \u001b[38;5;241m-\u001b[39m\u001b[38;5;241m>\u001b[39m List[Document]:\n\u001b[0;32m    463\u001b[0m \u001b[38;5;250m    \u001b[39m\u001b[38;5;124;03m\"\"\"Return docs most similar to query.\u001b[39;00m\n\u001b[0;32m    464\u001b[0m \n\u001b[0;32m    465\u001b[0m \u001b[38;5;124;03m    Returns:\u001b[39;00m\n\u001b[0;32m    466\u001b[0m \u001b[38;5;124;03m        List of Documents most similar to the query.\u001b[39;00m\n\u001b[0;32m    467\u001b[0m \u001b[38;5;124;03m    \"\"\"\u001b[39;00m\n\u001b[1;32m--> 468\u001b[0m     results \u001b[38;5;241m=\u001b[39m \u001b[38;5;28;43mself\u001b[39;49m\u001b[38;5;241;43m.\u001b[39;49m\u001b[43msimilarity_search_with_score\u001b[49m\u001b[43m(\u001b[49m\n\u001b[0;32m    469\u001b[0m \u001b[43m        \u001b[49m\u001b[43mquery\u001b[49m\u001b[43m,\u001b[49m\n\u001b[0;32m    470\u001b[0m \u001b[43m        \u001b[49m\u001b[43mk\u001b[49m\u001b[43m,\u001b[49m\n\u001b[0;32m    471\u001b[0m \u001b[43m        \u001b[49m\u001b[38;5;28;43mfilter\u001b[39;49m\u001b[38;5;241;43m=\u001b[39;49m\u001b[38;5;28;43mfilter\u001b[39;49m\u001b[43m,\u001b[49m\n\u001b[0;32m    472\u001b[0m \u001b[43m        \u001b[49m\u001b[43msearch_params\u001b[49m\u001b[38;5;241;43m=\u001b[39;49m\u001b[43msearch_params\u001b[49m\u001b[43m,\u001b[49m\n\u001b[0;32m    473\u001b[0m \u001b[43m        \u001b[49m\u001b[43moffset\u001b[49m\u001b[38;5;241;43m=\u001b[39;49m\u001b[43moffset\u001b[49m\u001b[43m,\u001b[49m\n\u001b[0;32m    474\u001b[0m \u001b[43m        \u001b[49m\u001b[43mscore_threshold\u001b[49m\u001b[38;5;241;43m=\u001b[39;49m\u001b[43mscore_threshold\u001b[49m\u001b[43m,\u001b[49m\n\u001b[0;32m    475\u001b[0m \u001b[43m        \u001b[49m\u001b[43mconsistency\u001b[49m\u001b[38;5;241;43m=\u001b[39;49m\u001b[43mconsistency\u001b[49m\u001b[43m,\u001b[49m\n\u001b[0;32m    476\u001b[0m \u001b[43m        \u001b[49m\u001b[43mhybrid_fusion\u001b[49m\u001b[38;5;241;43m=\u001b[39;49m\u001b[43mhybrid_fusion\u001b[49m\u001b[43m,\u001b[49m\n\u001b[0;32m    477\u001b[0m \u001b[43m        \u001b[49m\u001b[38;5;241;43m*\u001b[39;49m\u001b[38;5;241;43m*\u001b[39;49m\u001b[43mkwargs\u001b[49m\u001b[43m,\u001b[49m\n\u001b[0;32m    478\u001b[0m \u001b[43m    \u001b[49m\u001b[43m)\u001b[49m\n\u001b[0;32m    479\u001b[0m     \u001b[38;5;28;01mreturn\u001b[39;00m \u001b[38;5;28mlist\u001b[39m(\u001b[38;5;28mmap\u001b[39m(itemgetter(\u001b[38;5;241m0\u001b[39m), results))\n",
      "File \u001b[1;32mc:\\Users\\saram\\OneDrive\\Desktop\\virtualenv\\venv\\Lib\\site-packages\\langchain_qdrant\\qdrant.py:511\u001b[0m, in \u001b[0;36mQdrantVectorStore.similarity_search_with_score\u001b[1;34m(self, query, k, filter, search_params, offset, score_threshold, consistency, hybrid_fusion, **kwargs)\u001b[0m\n\u001b[0;32m    498\u001b[0m query_options \u001b[38;5;241m=\u001b[39m {\n\u001b[0;32m    499\u001b[0m     \u001b[38;5;124m\"\u001b[39m\u001b[38;5;124mcollection_name\u001b[39m\u001b[38;5;124m\"\u001b[39m: \u001b[38;5;28mself\u001b[39m\u001b[38;5;241m.\u001b[39mcollection_name,\n\u001b[0;32m    500\u001b[0m     \u001b[38;5;124m\"\u001b[39m\u001b[38;5;124mquery_filter\u001b[39m\u001b[38;5;124m\"\u001b[39m: \u001b[38;5;28mfilter\u001b[39m,\n\u001b[1;32m   (...)\u001b[0m\n\u001b[0;32m    508\u001b[0m     \u001b[38;5;241m*\u001b[39m\u001b[38;5;241m*\u001b[39mkwargs,\n\u001b[0;32m    509\u001b[0m }\n\u001b[0;32m    510\u001b[0m \u001b[38;5;28;01mif\u001b[39;00m \u001b[38;5;28mself\u001b[39m\u001b[38;5;241m.\u001b[39mretrieval_mode \u001b[38;5;241m==\u001b[39m RetrievalMode\u001b[38;5;241m.\u001b[39mDENSE:\n\u001b[1;32m--> 511\u001b[0m     query_dense_embedding \u001b[38;5;241m=\u001b[39m \u001b[38;5;28;43mself\u001b[39;49m\u001b[38;5;241;43m.\u001b[39;49m\u001b[43membeddings\u001b[49m\u001b[38;5;241;43m.\u001b[39;49m\u001b[43membed_query\u001b[49m\u001b[43m(\u001b[49m\u001b[43mquery\u001b[49m\u001b[43m)\u001b[49m\n\u001b[0;32m    512\u001b[0m     results \u001b[38;5;241m=\u001b[39m \u001b[38;5;28mself\u001b[39m\u001b[38;5;241m.\u001b[39mclient\u001b[38;5;241m.\u001b[39mquery_points(\n\u001b[0;32m    513\u001b[0m         query\u001b[38;5;241m=\u001b[39mquery_dense_embedding,\n\u001b[0;32m    514\u001b[0m         using\u001b[38;5;241m=\u001b[39m\u001b[38;5;28mself\u001b[39m\u001b[38;5;241m.\u001b[39mvector_name,\n\u001b[0;32m    515\u001b[0m         \u001b[38;5;241m*\u001b[39m\u001b[38;5;241m*\u001b[39mquery_options,\n\u001b[0;32m    516\u001b[0m     )\u001b[38;5;241m.\u001b[39mpoints\n\u001b[0;32m    518\u001b[0m \u001b[38;5;28;01melif\u001b[39;00m \u001b[38;5;28mself\u001b[39m\u001b[38;5;241m.\u001b[39mretrieval_mode \u001b[38;5;241m==\u001b[39m RetrievalMode\u001b[38;5;241m.\u001b[39mSPARSE:\n",
      "File \u001b[1;32mc:\\Users\\saram\\OneDrive\\Desktop\\virtualenv\\venv\\Lib\\site-packages\\langchain_google_genai\\embeddings.py:256\u001b[0m, in \u001b[0;36mGoogleGenerativeAIEmbeddings.embed_query\u001b[1;34m(self, text, task_type, title, output_dimensionality)\u001b[0m\n\u001b[0;32m    242\u001b[0m \u001b[38;5;250m\u001b[39m\u001b[38;5;124;03m\"\"\"Embed a text.\u001b[39;00m\n\u001b[0;32m    243\u001b[0m \n\u001b[0;32m    244\u001b[0m \u001b[38;5;124;03mArgs:\u001b[39;00m\n\u001b[1;32m   (...)\u001b[0m\n\u001b[0;32m    253\u001b[0m \u001b[38;5;124;03m    Embedding for the text.\u001b[39;00m\n\u001b[0;32m    254\u001b[0m \u001b[38;5;124;03m\"\"\"\u001b[39;00m\n\u001b[0;32m    255\u001b[0m task_type \u001b[38;5;241m=\u001b[39m \u001b[38;5;28mself\u001b[39m\u001b[38;5;241m.\u001b[39mtask_type \u001b[38;5;129;01mor\u001b[39;00m \u001b[38;5;124m\"\u001b[39m\u001b[38;5;124mRETRIEVAL_QUERY\u001b[39m\u001b[38;5;124m\"\u001b[39m\n\u001b[1;32m--> 256\u001b[0m \u001b[38;5;28;01mreturn\u001b[39;00m \u001b[38;5;28;43mself\u001b[39;49m\u001b[38;5;241;43m.\u001b[39;49m\u001b[43membed_documents\u001b[49m\u001b[43m(\u001b[49m\n\u001b[0;32m    257\u001b[0m \u001b[43m    \u001b[49m\u001b[43m[\u001b[49m\u001b[43mtext\u001b[49m\u001b[43m]\u001b[49m\u001b[43m,\u001b[49m\n\u001b[0;32m    258\u001b[0m \u001b[43m    \u001b[49m\u001b[43mtask_type\u001b[49m\u001b[38;5;241;43m=\u001b[39;49m\u001b[43mtask_type\u001b[49m\u001b[43m,\u001b[49m\n\u001b[0;32m    259\u001b[0m \u001b[43m    \u001b[49m\u001b[43mtitles\u001b[49m\u001b[38;5;241;43m=\u001b[39;49m\u001b[43m[\u001b[49m\u001b[43mtitle\u001b[49m\u001b[43m]\u001b[49m\u001b[43m \u001b[49m\u001b[38;5;28;43;01mif\u001b[39;49;00m\u001b[43m \u001b[49m\u001b[43mtitle\u001b[49m\u001b[43m \u001b[49m\u001b[38;5;28;43;01melse\u001b[39;49;00m\u001b[43m \u001b[49m\u001b[38;5;28;43;01mNone\u001b[39;49;00m\u001b[43m,\u001b[49m\n\u001b[0;32m    260\u001b[0m \u001b[43m    \u001b[49m\u001b[43moutput_dimensionality\u001b[49m\u001b[38;5;241;43m=\u001b[39;49m\u001b[43moutput_dimensionality\u001b[49m\u001b[43m,\u001b[49m\n\u001b[0;32m    261\u001b[0m \u001b[43m\u001b[49m\u001b[43m)\u001b[49m[\u001b[38;5;241m0\u001b[39m]\n",
      "File \u001b[1;32mc:\\Users\\saram\\OneDrive\\Desktop\\virtualenv\\venv\\Lib\\site-packages\\langchain_google_genai\\embeddings.py:231\u001b[0m, in \u001b[0;36mGoogleGenerativeAIEmbeddings.embed_documents\u001b[1;34m(self, texts, batch_size, task_type, titles, output_dimensionality)\u001b[0m\n\u001b[0;32m    227\u001b[0m         result \u001b[38;5;241m=\u001b[39m \u001b[38;5;28mself\u001b[39m\u001b[38;5;241m.\u001b[39mclient\u001b[38;5;241m.\u001b[39mbatch_embed_contents(\n\u001b[0;32m    228\u001b[0m             BatchEmbedContentsRequest(requests\u001b[38;5;241m=\u001b[39mrequests, model\u001b[38;5;241m=\u001b[39m\u001b[38;5;28mself\u001b[39m\u001b[38;5;241m.\u001b[39mmodel)\n\u001b[0;32m    229\u001b[0m         )\n\u001b[0;32m    230\u001b[0m     \u001b[38;5;28;01mexcept\u001b[39;00m \u001b[38;5;167;01mException\u001b[39;00m \u001b[38;5;28;01mas\u001b[39;00m e:\n\u001b[1;32m--> 231\u001b[0m         \u001b[38;5;28;01mraise\u001b[39;00m GoogleGenerativeAIError(\u001b[38;5;124mf\u001b[39m\u001b[38;5;124m\"\u001b[39m\u001b[38;5;124mError embedding content: \u001b[39m\u001b[38;5;132;01m{\u001b[39;00me\u001b[38;5;132;01m}\u001b[39;00m\u001b[38;5;124m\"\u001b[39m) \u001b[38;5;28;01mfrom\u001b[39;00m\u001b[38;5;250m \u001b[39m\u001b[38;5;21;01me\u001b[39;00m\n\u001b[0;32m    232\u001b[0m     embeddings\u001b[38;5;241m.\u001b[39mextend([\u001b[38;5;28mlist\u001b[39m(e\u001b[38;5;241m.\u001b[39mvalues) \u001b[38;5;28;01mfor\u001b[39;00m e \u001b[38;5;129;01min\u001b[39;00m result\u001b[38;5;241m.\u001b[39membeddings])\n\u001b[0;32m    233\u001b[0m \u001b[38;5;28;01mreturn\u001b[39;00m embeddings\n",
      "\u001b[1;31mGoogleGenerativeAIError\u001b[0m: Error embedding content: 504 Deadline Exceeded"
     ]
    }
   ],
   "source": [
    "query=input(\"what u want to search before chaining??\")\n",
    "\n",
    "results = qdrant.similarity_search(\n",
    "    query, k=4\n",
    ")\n",
    "for res in results:\n",
    "    print(f\"* {res.page_content} [{res.metadata}]\")"
   ]
  },
  {
   "cell_type": "code",
   "execution_count": null,
   "metadata": {},
   "outputs": [
    {
     "name": "stdout",
     "output_type": "stream",
     "text": [
      "MODEL RSP1: Habit 2 is about beginning with the end in mind.  Its purpose is to ensure that everything you do aligns with your desired outcomes by identifying your values and clarifying your objectives.\n",
      "MODEL RSP1: Habit 6 is Synergize.  It's about teamwork and collaboration, where the combined effort produces results greater than the sum of individual contributions (1 + 1 = 3, 30, or even 300).  It emphasizes leveraging differences and creating an environment where diverse ideas are welcome.\n"
     ]
    }
   ],
   "source": [
    "from langchain.chains import RetrievalQA\n",
    "from langchain_google_genai import ChatGoogleGenerativeAI\n",
    "try:\n",
    "# Initialize LLM with the correct model\n",
    " llm = ChatGoogleGenerativeAI(model=\"gemini-1.5-flash\", api_key=key1)\n",
    "\n",
    "# Convert Qdrant into a retriever\n",
    " retriever = qdrant.as_retriever()\n",
    "\n",
    "# Create the RetrievalQA chain using \"stuff\" for simple concatenation of documents \n",
    " qa_chain = RetrievalQA.from_chain_type(\n",
    "    llm=llm,\n",
    "    chain_type=\"stuff\",\n",
    "    retriever=retriever,\n",
    " )\n",
    "\n",
    "\n",
    " while True:\n",
    "    # Query the chain\n",
    "    query = input(\"Enter the prompt you want to search: \")\n",
    "\n",
    "    # Run the chain with the user's input\n",
    "    response = qa_chain.run(query)\n",
    "\n",
    "    # Modify the loop to print unique responses\n",
    "    if isinstance(response, list):\n",
    "        for i, res in enumerate(response):\n",
    "            print(f\"MODEL RSP{i+1}: {res}\")\n",
    "    else:\n",
    "        print(f\"MODEL RSP1: {response}\")\n",
    "except Exception as e:\n",
    "   print(\"try again network issue.....\")\n",
    "   print(\"change ur network connectivity.....\")"
   ]
  }
 ],
 "metadata": {
  "kernelspec": {
   "display_name": "venv",
   "language": "python",
   "name": "python3"
  },
  "language_info": {
   "codemirror_mode": {
    "name": "ipython",
    "version": 3
   },
   "file_extension": ".py",
   "mimetype": "text/x-python",
   "name": "python",
   "nbconvert_exporter": "python",
   "pygments_lexer": "ipython3",
   "version": "3.13.0"
  }
 },
 "nbformat": 4,
 "nbformat_minor": 2
}
